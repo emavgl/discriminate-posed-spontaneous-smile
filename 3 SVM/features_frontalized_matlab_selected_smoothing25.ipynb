{
 "cells": [
  {
   "cell_type": "markdown",
   "metadata": {},
   "source": [
    "## Import libraries"
   ]
  },
  {
   "cell_type": "code",
   "execution_count": 1,
   "metadata": {},
   "outputs": [],
   "source": [
    "from sklearn.svm import SVC\n",
    "from sklearn import metrics\n",
    "from sklearn import datasets\n",
    "from sklearn import model_selection\n",
    "from sklearn import preprocessing\n",
    "from sklearn.metrics import confusion_matrix\n",
    "import itertools\n",
    "import numpy as np\n",
    "import matplotlib.pyplot as plt\n",
    "import csv"
   ]
  },
  {
   "cell_type": "markdown",
   "metadata": {},
   "source": [
    "## Function definition"
   ]
  },
  {
   "cell_type": "code",
   "execution_count": 2,
   "metadata": {},
   "outputs": [],
   "source": [
    "def predictSVM(X_train, y_train, X_test, Cp):\n",
    "#    sclf = SVC(C=Cp, kernel='rbf', gamma=0.01)\n",
    "    sclf = SVC(C=Cp, kernel='rbf', gamma=0.0005)\n",
    "    sclf.fit(X_train, y_train)\n",
    "    return sclf.predict(X_test)\n",
    "\n",
    "def computeAccuracy(prediction, test):\n",
    "    return metrics.accuracy_score(test, prediction)\n",
    "\n",
    "def computeF1(prediction, test):\n",
    "    return metrics.f1_score(test, prediction)\n",
    "\n",
    "def ComputeRocAuc(prediction, test):\n",
    "    return metrics.roc_auc_score(test, prediction)"
   ]
  },
  {
   "cell_type": "code",
   "execution_count": 3,
   "metadata": {},
   "outputs": [],
   "source": [
    "def plot_confusion_matrix(cm, classes,\n",
    "                          normalize=False,\n",
    "                          title='Confusion matrix',\n",
    "                          cmap=plt.cm.Blues):\n",
    "    \"\"\"\n",
    "    This function prints and plots the confusion matrix.\n",
    "    Normalization can be applied by setting `normalize=True`.\n",
    "    \"\"\"\n",
    "    if normalize:\n",
    "        cm = cm.astype('float') / cm.sum(axis=1)[:, np.newaxis]\n",
    "        print(\"Normalized confusion matrix\")\n",
    "    else:\n",
    "        print('Confusion matrix, without normalization')\n",
    "\n",
    "    print(cm)\n",
    "\n",
    "    plt.imshow(cm, interpolation='nearest', cmap=cmap)\n",
    "    plt.title(title)\n",
    "    plt.colorbar()\n",
    "    tick_marks = np.arange(len(classes))\n",
    "    plt.xticks(tick_marks, classes, rotation=45)\n",
    "    plt.yticks(tick_marks, classes)\n",
    "\n",
    "    fmt = '.2f' if normalize else 'd'\n",
    "    thresh = cm.max() / 2.\n",
    "    for i, j in itertools.product(range(cm.shape[0]), range(cm.shape[1])):\n",
    "        plt.text(j, i, format(cm[i, j], fmt),\n",
    "                 horizontalalignment=\"center\",\n",
    "                 color=\"white\" if cm[i, j] > thresh else \"black\")\n",
    "\n",
    "    plt.tight_layout()\n",
    "    plt.ylabel('True label')\n",
    "    plt.xlabel('Predicted label')"
   ]
  },
  {
   "cell_type": "markdown",
   "metadata": {},
   "source": [
    "## Create dataset\n",
    "First, we import an array *classes* that contains the binary classification (deliberate smile or not) for each video. Then, we import all the feature set. *full.csv* is a CSV that contains 152 features per video: 25 * temporal phase, both for eye features and lip features + age + gender."
   ]
  },
  {
   "cell_type": "code",
   "execution_count": 4,
   "metadata": {},
   "outputs": [
    {
     "name": "stdout",
     "output_type": "stream",
     "text": [
      "number_of_features\n",
      "152\n"
     ]
    }
   ],
   "source": [
    "classes = []\n",
    "folder = './features_frontalized_matlab_selected_smoothing25'\n",
    "with open(folder + '/lip/lip_total/lip_total_features_merged_classes.csv', 'r') as csvfile:\n",
    "    spamreader = csv.reader(csvfile, delimiter=',', quoting=csv.QUOTE_NONNUMERIC)\n",
    "    for r in spamreader:\n",
    "        classes.append(r[0])\n",
    "\n",
    "features = []\n",
    "features_path = folder + '/full.csv'\n",
    "with open(features_path, 'r') as csvfile:\n",
    "    spamreader = csv.reader(csvfile, delimiter=',', quoting=csv.QUOTE_NONNUMERIC)\n",
    "    for r in spamreader:\n",
    "        features.append(r)\n",
    "\n",
    "print(\"number_of_features\")\n",
    "print(len(features[0]))\n",
    "y = np.array(classes)\n",
    "X = np.array(features)\n",
    "\n",
    "# Standardize\n",
    "scaler = preprocessing.StandardScaler().fit(X)\n",
    "X_train = scaler.transform(X)\n",
    "\n",
    "data = [X, y]"
   ]
  },
  {
   "cell_type": "markdown",
   "metadata": {},
   "source": [
    "data is a 2 col matrix.\n",
    "\n",
    "data[0] (sample n.0) where each element is an array[75] (25 for each phases, concatenated)+ age + gender\n",
    "\n",
    "data[1] contains the class of each sample in data[0]"
   ]
  },
  {
   "cell_type": "markdown",
   "metadata": {},
   "source": [
    "## Division and validation"
   ]
  },
  {
   "cell_type": "code",
   "execution_count": 5,
   "metadata": {},
   "outputs": [],
   "source": [
    "def innerFoldC(X_train, y_train):\n",
    "    \"\"\"\n",
    "    Inner cross validation method to get the correct hyperparameter C\n",
    "    \"\"\"\n",
    "    # Values of C which I have to test\n",
    "    Cvalues = [1e-4, 1e-03, 1e-02, 1e-01, 1e00, 1e01, 1e02, 1e03]\n",
    "    innerscoreC = []\n",
    "\n",
    "    for C in Cvalues:\n",
    "        # inner 5-fold cross validation on the original training set\n",
    "        ikf = model_selection.KFold(n_splits=5, random_state=5678, shuffle=True)\n",
    "        innerf1 = []\n",
    "        for t_index, v_index in ikf.split(X_train):\n",
    "            X2_train, X2_test = X_train[t_index], X_train[v_index]\n",
    "            y2_train, y2_test = y_train[t_index], y_train[v_index]\n",
    "\n",
    "            ipred = predictSVM(X2_train, y2_train, X2_test, C)\n",
    "            innerf1.append(computeF1(y2_test, ipred))\n",
    "\n",
    "        innerscoreC.append(sum(innerf1)/len(innerf1))\n",
    "\n",
    "    return Cvalues[np.argmax(innerscoreC)]"
   ]
  },
  {
   "cell_type": "code",
   "execution_count": 6,
   "metadata": {},
   "outputs": [
    {
     "name": "stdout",
     "output_type": "stream",
     "text": [
      "\n",
      "[evalutation - SVM]\n",
      "\n",
      "('accuracy', 0.78314691843692619)\n",
      "('f1', 0.80525033050170669)\n",
      "Confusion matrix, without normalization\n",
      "[[414 181]\n",
      " [ 87 554]]\n"
     ]
    },
    {
     "data": {
      "image/png": "[encoded data removed]",
      "text/plain": [
       "<matplotlib.figure.Figure at 0x7f93a01ecf90>"
      ]
     },
     "metadata": {},
     "output_type": "display_data"
    }
   ],
   "source": [
    "accuracy = {'svm': []}\n",
    "f1 = {'svm': []}\n",
    "auc_roc = {'svm': []}\n",
    "\n",
    "best_c_values = []\n",
    "best_n_estimators = []\n",
    "confusion_matrices = []\n",
    "\n",
    "# Outer cross-validation (10 folds)\n",
    "skf = model_selection.StratifiedKFold(n_splits=10, random_state=1234, shuffle=True)\n",
    "for train_index, test_index in skf.split(data[0], data[1]):\n",
    "    X_train, X_test = data[0][train_index], data[0][test_index]\n",
    "    y_train, y_test = data[1][train_index], data[1][test_index]\n",
    "    \n",
    "    # pick the C that gives the best F1-Score\n",
    "    bestC = innerFoldC(X_train, y_train)\n",
    "    best_c_values.append(bestC)\n",
    "\n",
    "    # Run SVM classifier\n",
    "    svm_prediction = predictSVM(X_train, y_train, X_test, bestC)\n",
    "    \n",
    "    # Evaluate the classification\n",
    "    confusion_matrices.append(confusion_matrix(y_test, svm_prediction))\n",
    "    accuracy['svm'].append(computeAccuracy(svm_prediction, y_test))\n",
    "    f1['svm'].append(computeF1(svm_prediction, y_test))\n",
    "    auc_roc['svm'].append(ComputeRocAuc(svm_prediction, y_test))\n",
    "    \n",
    "\n",
    "resulting_matrix = confusion_matrices[0]\n",
    "for cm in confusion_matrices[1:]:\n",
    "    resulting_matrix = np.add(resulting_matrix, cm)\n",
    "    \n",
    "print(\"\\n[evalutation - SVM]\\n\")\n",
    "print(\"accuracy\", np.mean(accuracy['svm']))\n",
    "print(\"f1\", np.mean(f1['svm']))\n",
    "\n",
    "plt.figure()\n",
    "plot_confusion_matrix(resulting_matrix, ['Spontaneous', 'Posed'])\n",
    "plt.show()"
   ]
  },
  {
   "cell_type": "code",
   "execution_count": null,
   "metadata": {},
   "outputs": [],
   "source": []
  }
 ],
 "metadata": {
  "kernelspec": {
   "display_name": "Python 3",
   "language": "python",
   "name": "python3"
  },
  "language_info": {
   "codemirror_mode": {
    "name": "ipython",
    "version": 2
   },
   "file_extension": ".py",
   "mimetype": "text/x-python",
   "name": "python",
   "nbconvert_exporter": "python",
   "pygments_lexer": "ipython2",
   "version": "2.7.12"
  }
 },
 "nbformat": 4,
 "nbformat_minor": 1
}
