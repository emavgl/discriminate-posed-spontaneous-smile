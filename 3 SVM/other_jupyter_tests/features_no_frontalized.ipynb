{
 "cells": [
  {
   "cell_type": "markdown",
   "metadata": {},
   "source": [
    "## Import libraries"
   ]
  },
  {
   "cell_type": "code",
   "execution_count": 2,
   "metadata": {
    "collapsed": false
   },
   "outputs": [],
   "source": [
    "from sklearn.svm import SVC\n",
    "from sklearn import metrics\n",
    "from sklearn import datasets\n",
    "from sklearn import model_selection\n",
    "from sklearn import preprocessing\n",
    "import csv\n",
    "import numpy as np"
   ]
  },
  {
   "cell_type": "markdown",
   "metadata": {},
   "source": [
    "## Function definition"
   ]
  },
  {
   "cell_type": "code",
   "execution_count": 3,
   "metadata": {
    "collapsed": true
   },
   "outputs": [],
   "source": [
    "def predictSVM(X_train, y_train, X_test, Cp):\n",
    "    sclf = SVC(C=Cp, kernel='rbf', gamma=0.01)\n",
    "    sclf.fit(X_train, y_train)\n",
    "    return sclf.predict(X_test)\n",
    "\n",
    "def computeAccuracy(prediction, test):\n",
    "    return metrics.accuracy_score(test, prediction)\n",
    "\n",
    "def computeF1(prediction, test):\n",
    "    return metrics.f1_score(test, prediction)\n",
    "\n",
    "def ComputeRocAuc(prediction, test):\n",
    "    return metrics.roc_auc_score(test, prediction)"
   ]
  },
  {
   "cell_type": "markdown",
   "metadata": {},
   "source": [
    "## Create dataset\n",
    "First, we import an array *classes* that contains the binary classification (deliberate smile or not) for each video. Then, we import all the feature set. *full.csv* is a CSV that contains 152 features per video: 25 * temporal phase, both for eye features and lip features + age + gender."
   ]
  },
  {
   "cell_type": "code",
   "execution_count": 8,
   "metadata": {
    "collapsed": false
   },
   "outputs": [
    {
     "name": "stdout",
     "output_type": "stream",
     "text": [
      "number_of_features\n",
      "152\n"
     ]
    }
   ],
   "source": [
    "classes = []\n",
    "folder = './features_no_frontalized'\n",
    "with open(folder + '/lip/lip_total/lip_total_features_merged_classes.csv', 'r') as csvfile:\n",
    "    spamreader = csv.reader(csvfile, delimiter=',', quoting=csv.QUOTE_NONNUMERIC)\n",
    "    for r in spamreader:\n",
    "        classes.append(r[0])\n",
    "\n",
    "features = []\n",
    "features_path = folder + '/full.csv'\n",
    "with open(features_path, 'r') as csvfile:\n",
    "    spamreader = csv.reader(csvfile, delimiter=',', quoting=csv.QUOTE_NONNUMERIC)\n",
    "    for r in spamreader:\n",
    "        features.append(r)\n",
    "\n",
    "print(\"number_of_features\")\n",
    "print(len(features[0]))\n",
    "y = np.array(classes)\n",
    "X = np.array(features)\n",
    "\n",
    "# Standardize\n",
    "scaler = preprocessing.StandardScaler().fit(X)\n",
    "X_train = scaler.transform(X)\n",
    "\n",
    "data = [X, y]"
   ]
  },
  {
   "cell_type": "markdown",
   "metadata": {},
   "source": [
    "data is a 2 col matrix.\n",
    "\n",
    "data[0] (sample n.0) where each element is an array[75] (25 for each phases, concatenated)+ age + gender\n",
    "\n",
    "data[1] contains the class of each sample in data[0]"
   ]
  },
  {
   "cell_type": "markdown",
   "metadata": {},
   "source": [
    "## Division and validation"
   ]
  },
  {
   "cell_type": "code",
   "execution_count": 9,
   "metadata": {
    "collapsed": true
   },
   "outputs": [],
   "source": [
    "def innerFoldC(X_train, y_train):\n",
    "    \"\"\"\n",
    "    Inner cross validation method to get the correct hyperparameter C\n",
    "    \"\"\"\n",
    "    # Values of C which I have to test\n",
    "    Cvalues = [1e-4, 1e-03, 1e-02, 1e-01, 1e00, 1e01, 1e02, 1e03]\n",
    "    innerscoreC = []\n",
    "\n",
    "    for C in Cvalues:\n",
    "        # inner 5-fold cross validation on the original training set\n",
    "        ikf = model_selection.KFold(n_splits=5, random_state=5678, shuffle=True)\n",
    "        innerf1 = []\n",
    "        for t_index, v_index in ikf.split(X_train):\n",
    "            X2_train, X2_test = X_train[t_index], X_train[v_index]\n",
    "            y2_train, y2_test = y_train[t_index], y_train[v_index]\n",
    "\n",
    "            ipred = predictSVM(X2_train, y2_train, X2_test, C)\n",
    "            innerf1.append(computeF1(y2_test, ipred))\n",
    "\n",
    "        innerscoreC.append(sum(innerf1)/len(innerf1))\n",
    "\n",
    "    return Cvalues[np.argmax(innerscoreC)]"
   ]
  },
  {
   "cell_type": "code",
   "execution_count": 10,
   "metadata": {
    "collapsed": false
   },
   "outputs": [
    {
     "name": "stdout",
     "output_type": "stream",
     "text": [
      "\n",
      "[evalutation - SVM]\n",
      "\n",
      "accuracy 0.740266771571\n",
      "f1 0.76603308777\n"
     ]
    }
   ],
   "source": [
    "accuracy = {'svm': []}\n",
    "f1 = {'svm': []}\n",
    "auc_roc = {'svm': []}\n",
    "\n",
    "best_c_values = []\n",
    "best_n_estimators = []\n",
    "\n",
    "# Outer cross-validation (10 folds)\n",
    "skf = model_selection.StratifiedKFold(n_splits=10, random_state=1234, shuffle=True)\n",
    "for train_index, test_index in skf.split(data[0], data[1]):\n",
    "    X_train, X_test = data[0][train_index], data[0][test_index]\n",
    "    y_train, y_test = data[1][train_index], data[1][test_index]\n",
    "    \n",
    "    # pick the C that gives the best F1-Score\n",
    "    bestC = innerFoldC(X_train, y_train)\n",
    "    best_c_values.append(bestC)\n",
    "\n",
    "    # Run SVM classifier\n",
    "    svm_prediction = predictSVM(X_train, y_train, X_test, bestC)\n",
    "    \n",
    "    # Evaluate the classification\n",
    "    accuracy['svm'].append(computeAccuracy(svm_prediction, y_test))\n",
    "    f1['svm'].append(computeF1(svm_prediction, y_test))\n",
    "    auc_roc['svm'].append(ComputeRocAuc(svm_prediction, y_test))\n",
    "    \n",
    "\n",
    "print(\"\\n[evalutation - SVM]\\n\")\n",
    "print(\"accuracy\", np.mean(accuracy['svm']))\n",
    "print(\"f1\", np.mean(f1['svm']))"
   ]
  },
  {
   "cell_type": "code",
   "execution_count": null,
   "metadata": {
    "collapsed": true
   },
   "outputs": [],
   "source": []
  }
 ],
 "metadata": {
  "kernelspec": {
   "display_name": "Python 3",
   "language": "python",
   "name": "python3"
  },
  "language_info": {
   "codemirror_mode": {
    "name": "ipython",
    "version": 3
   },
   "file_extension": ".py",
   "mimetype": "text/x-python",
   "name": "python",
   "nbconvert_exporter": "python",
   "pygments_lexer": "ipython3",
   "version": "3.5.2"
  }
 },
 "nbformat": 4,
 "nbformat_minor": 1
}
